{
 "cells": [
  {
   "cell_type": "code",
   "execution_count": 1,
   "metadata": {},
   "outputs": [
    {
     "name": "stdout",
     "output_type": "stream",
     "text": [
      "env: CUDA_VISIBLE_DEVICES=1\n"
     ]
    }
   ],
   "source": [
    "%env CUDA_VISIBLE_DEVICES=1"
   ]
  },
  {
   "cell_type": "code",
   "execution_count": 9,
   "metadata": {},
   "outputs": [],
   "source": [
    "import os\n",
    "import json\n",
    "import torch\n",
    "import numpy as np\n",
    "import matplotlib.pyplot as plt\n",
    "import seaborn as sns\n",
    "from irelease.utils import generate_smiles\n",
    "from nb_utils import initialize, data_provider, agent_net_hidden_states_func, evaluate, device, load_model, logp_ppo_hparams"
   ]
  },
  {
   "cell_type": "code",
   "execution_count": 3,
   "metadata": {},
   "outputs": [],
   "source": [
    "with open('logp_IReLeaSE-REINFORCE_no_irl.json', 'r') as f:\n",
    "    reinf_train_hist = json.load(f)\n",
    "with open('logp_IReLeaSE-ppo_with_irl_no_attn.json', 'r') as f:\n",
    "    ppo_train_hist = json.load(f)"
   ]
  },
  {
   "cell_type": "code",
   "execution_count": 4,
   "metadata": {},
   "outputs": [
    {
     "data": {
      "text/plain": [
       "(600, 600, 600)"
      ]
     },
     "execution_count": 4,
     "metadata": {},
     "output_type": "execute_result"
    }
   ],
   "source": [
    "rl_baseline_mean_vals = reinf_train_hist['logp_IReLeaSE-REINFORCE_no_irl'][0]['seed_1'][0]['baseline_mean_vals']\n",
    "rl_biased_mean_vals = reinf_train_hist['logp_IReLeaSE-REINFORCE_no_irl'][0]['seed_1'][1]['biased_mean_vals']\n",
    "rl_gen_mean_vals = reinf_train_hist['logp_IReLeaSE-REINFORCE_no_irl'][0]['seed_1'][2]['gen_mean_vals']\n",
    "len(rl_baseline_mean_vals), len(rl_biased_mean_vals), len(rl_gen_mean_vals)"
   ]
  },
  {
   "cell_type": "code",
   "execution_count": 5,
   "metadata": {},
   "outputs": [
    {
     "data": {
      "text/plain": [
       "(500, 500, 500)"
      ]
     },
     "execution_count": 5,
     "metadata": {},
     "output_type": "execute_result"
    }
   ],
   "source": [
    "ppo_baseline_mean_vals = ppo_train_hist['logp_IReLeaSE-ppo_with_irl_no_attn'][0]['seed_1'][0]['baseline_mean_vals']\n",
    "ppo_biased_mean_vals = ppo_train_hist['logp_IReLeaSE-ppo_with_irl_no_attn'][0]['seed_1'][1]['biased_mean_vals']\n",
    "ppo_gen_mean_vals = ppo_train_hist['logp_IReLeaSE-ppo_with_irl_no_attn'][0]['seed_1'][2]['gen_mean_vals']\n",
    "len(ppo_baseline_mean_vals), len(ppo_biased_mean_vals), len(ppo_gen_mean_vals)"
   ]
  },
  {
   "cell_type": "code",
   "execution_count": 6,
   "metadata": {},
   "outputs": [
    {
     "data": {
      "text/plain": [
       "[<matplotlib.lines.Line2D at 0x7f321909fdd0>]"
      ]
     },
     "execution_count": 6,
     "metadata": {},
     "output_type": "execute_result"
    },
    {
     "data": {
      "image/png": "[encoded data removed]",
      "text/plain": [
       "<Figure size 432x288 with 1 Axes>"
      ]
     },
     "metadata": {
      "needs_background": "light"
     },
     "output_type": "display_data"
    }
   ],
   "source": [
    "plt.plot(rl_baseline_mean_vals)\n",
    "plt.plot(rl_biased_mean_vals)\n",
    "plt.plot(ppo_gen_mean_vals[:150])\n",
    "plt.plot(rl_gen_mean_vals)"
   ]
  },
  {
   "cell_type": "code",
   "execution_count": 10,
   "metadata": {},
   "outputs": [],
   "source": [
    "generators = data_provider('../../data/logp_smiles_biased.smi', '../../data/unbiased_smiles.smi')"
   ]
  },
  {
   "cell_type": "code",
   "execution_count": 12,
   "metadata": {},
   "outputs": [],
   "source": [
    "init_dict = initialize(logp_ppo_hparams(),generators['demo_data'], generators['unbiased_data'], True)"
   ]
  },
  {
   "cell_type": "code",
   "execution_count": 13,
   "metadata": {},
   "outputs": [
    {
     "data": {
      "text/plain": [
       "<All keys matched successfully>"
      ]
     },
     "execution_count": 13,
     "metadata": {},
     "output_type": "execute_result"
    }
   ],
   "source": [
    "weights = load_model('../model_dir/logp_irelease_stack-rnn_gru_ppo_agent_2020_06_25__01_31_53_1.978_500.mod')\n",
    "agent_net = init_dict['agent_net']\n",
    "agent_net.load_state_dict(weights)"
   ]
  },
  {
   "cell_type": "code",
   "execution_count": 14,
   "metadata": {},
   "outputs": [],
   "source": [
    "demo_data_gen = init_dict['demo_data_gen']\n",
    "unbiased_data_gen = init_dict['unbiased_data_gen']"
   ]
  },
  {
   "cell_type": "code",
   "execution_count": 15,
   "metadata": {},
   "outputs": [
    {
     "name": "stderr",
     "output_type": "stream",
     "text": [
      "Generating SMILES...: 100%|██████████| 99/99 [00:03<00:00, 29.01it/s]\n",
      "Processing SMILES...: 100%|██████████| 200/200 [00:00<00:00, 17518.24it/s]\n",
      "Generating SMILES...: 100%|██████████| 99/99 [00:03<00:00, 29.08it/s]\n",
      "Processing SMILES...: 100%|██████████| 200/200 [00:00<00:00, 18158.34it/s]\n",
      "Generating SMILES...: 100%|██████████| 99/99 [00:03<00:00, 28.80it/s]\n",
      "Processing SMILES...: 100%|██████████| 200/200 [00:00<00:00, 17208.11it/s]\n",
      "Generating SMILES...: 100%|██████████| 99/99 [00:03<00:00, 28.68it/s]\n",
      "Processing SMILES...: 100%|██████████| 200/200 [00:00<00:00, 18031.49it/s]\n",
      "Generating SMILES...: 100%|██████████| 99/99 [00:03<00:00, 28.72it/s]\n",
      "Processing SMILES...: 100%|██████████| 200/200 [00:00<00:00, 17251.64it/s]\n"
     ]
    },
    {
     "data": {
      "text/plain": [
       "1000"
      ]
     },
     "execution_count": 15,
     "metadata": {},
     "output_type": "execute_result"
    }
   ],
   "source": [
    "with torch.set_grad_enabled(False):\n",
    "    samples = []\n",
    "    for i in range(5):\n",
    "        samples.extend(generate_smiles(agent_net,init_dict['demo_data_gen'],init_dict['gen_args'],\n",
    "                             num_samples=200, is_train=False, verbose=True))\n",
    "len(samples)"
   ]
  },
  {
   "cell_type": "code",
   "execution_count": 16,
   "metadata": {},
   "outputs": [],
   "source": [
    "expert_model = init_dict['expert_model']"
   ]
  },
  {
   "cell_type": "code",
   "execution_count": 17,
   "metadata": {},
   "outputs": [],
   "source": [
    "samples_predictions = expert_model(samples)[1]"
   ]
  },
  {
   "cell_type": "code",
   "execution_count": 19,
   "metadata": {},
   "outputs": [
    {
     "data": {
      "text/plain": [
       "(1000, 'CCCCn1cc(NC(=O)c2ccccc2C(N)=O)nn1')"
      ]
     },
     "execution_count": 19,
     "metadata": {},
     "output_type": "execute_result"
    }
   ],
   "source": [
    "unbiased_smiles = unbiased_data_gen.random_training_set_smiles(len(samples))\n",
    "unbiased_smiles_predictions = expert_model(unbiased_smiles)[1]\n",
    "len(unbiased_smiles), unbiased_smiles[0]"
   ]
  },
  {
   "cell_type": "code",
   "execution_count": 20,
   "metadata": {},
   "outputs": [
    {
     "data": {
      "text/plain": [
       "(1000, 'Cc1cccc(-c2cccc(-c3ccccc3Cc3cccc(-c4ccccc4Nc4ccccc4)c3)c2)c1')"
      ]
     },
     "execution_count": 20,
     "metadata": {},
     "output_type": "execute_result"
    }
   ],
   "source": [
    "biased_smiles = demo_data_gen.random_training_set_smiles(len(samples))\n",
    "biased_smiles_predictions = expert_model(biased_smiles)[1]\n",
    "len(biased_smiles), biased_smiles[0]"
   ]
  },
  {
   "cell_type": "code",
   "execution_count": 21,
   "metadata": {},
   "outputs": [
    {
     "data": {
      "image/png": "[encoded data removed]",
      "text/plain": [
       "<Figure size 432x288 with 1 Axes>"
      ]
     },
     "metadata": {
      "needs_background": "light"
     },
     "output_type": "display_data"
    }
   ],
   "source": [
    "sns.kdeplot(samples_predictions.ravel(),label='Optimized', shade=True, color='red')\n",
    "sns.kdeplot(unbiased_smiles_predictions.ravel(), label='Unbiased', shade=True, color='grey')\n",
    "sns.kdeplot(biased_smiles_predictions.ravel(), label='Demo', shade=True, color='orange')\n",
    "plt.xlabel('pIC50 values')\n",
    "plt.show()"
   ]
  },
  {
   "cell_type": "code",
   "execution_count": null,
   "metadata": {},
   "outputs": [],
   "source": []
  }
 ],
 "metadata": {
  "kernelspec": {
   "display_name": "Python 3",
   "language": "python",
   "name": "python3"
  },
  "language_info": {
   "codemirror_mode": {
    "name": "ipython",
    "version": 3
   },
   "file_extension": ".py",
   "mimetype": "text/x-python",
   "name": "python",
   "nbconvert_exporter": "python",
   "pygments_lexer": "ipython3",
   "version": "3.7.6"
  }
 },
 "nbformat": 4,
 "nbformat_minor": 4
}
