{
 "cells": [
  {
   "cell_type": "code",
   "execution_count": 1,
   "metadata": {},
   "outputs": [
    {
     "name": "stdout",
     "output_type": "stream",
     "text": [
      "env: CUDA_VISIBLE_DEVICES=1\n"
     ]
    }
   ],
   "source": [
    "%env CUDA_VISIBLE_DEVICES=1"
   ]
  },
  {
   "cell_type": "code",
   "execution_count": 2,
   "metadata": {},
   "outputs": [
    {
     "name": "stderr",
     "output_type": "stream",
     "text": [
      "RDKit WARNING: [17:56:28] Enabling RDKit 2019.09.3 jupyter extensions\n"
     ]
    },
    {
     "name": "stdout",
     "output_type": "stream",
     "text": [
      "mol_metrics: reading NP model ...\n",
      "loaded in 0.3370330333709717\n",
      "mol_metrics: reading SA model ...\n",
      "loaded in 0.977393388748169\n"
     ]
    }
   ],
   "source": [
    "import os\n",
    "import json\n",
    "import torch\n",
    "import numpy as np\n",
    "import matplotlib.pyplot as plt\n",
    "import seaborn as sns\n",
    "from irelease.utils import generate_smiles\n",
    "import nb_utils as nbu\n",
    "from math import ceil"
   ]
  },
  {
   "cell_type": "markdown",
   "metadata": {},
   "source": [
    "### Training performance"
   ]
  },
  {
   "cell_type": "code",
   "execution_count": 3,
   "metadata": {},
   "outputs": [],
   "source": [
    "with open('logp_IReLeaSE-REINFORCE_no_irl.json', 'r') as f:\n",
    "    reinf_train_hist = json.load(f)\n",
    "with open('logp_IReLeaSE-ppo_with_irl_no_attn.json', 'r') as f:\n",
    "    ppo_train_hist = json.load(f)"
   ]
  },
  {
   "cell_type": "code",
   "execution_count": 4,
   "metadata": {},
   "outputs": [
    {
     "data": {
      "text/plain": [
       "(1000, 1000, 1000)"
      ]
     },
     "execution_count": 4,
     "metadata": {},
     "output_type": "execute_result"
    }
   ],
   "source": [
    "rl_baseline_mean_vals = reinf_train_hist['logp_IReLeaSE-REINFORCE_no_irl'][0]['seed_1'][0]['baseline_mean_vals']\n",
    "rl_biased_mean_vals = reinf_train_hist['logp_IReLeaSE-REINFORCE_no_irl'][0]['seed_1'][1]['biased_mean_vals']\n",
    "rl_gen_mean_vals = reinf_train_hist['logp_IReLeaSE-REINFORCE_no_irl'][0]['seed_1'][2]['gen_mean_vals']\n",
    "len(rl_baseline_mean_vals), len(rl_biased_mean_vals), len(rl_gen_mean_vals)"
   ]
  },
  {
   "cell_type": "code",
   "execution_count": 5,
   "metadata": {},
   "outputs": [
    {
     "data": {
      "text/plain": [
       "(300, 300, 300)"
      ]
     },
     "execution_count": 5,
     "metadata": {},
     "output_type": "execute_result"
    }
   ],
   "source": [
    "ppo_baseline_mean_vals = ppo_train_hist['logp_IReLeaSE-ppo_with_irl_no_attn'][0]['seed_1'][0]['baseline_mean_vals']\n",
    "ppo_biased_mean_vals = ppo_train_hist['logp_IReLeaSE-ppo_with_irl_no_attn'][0]['seed_1'][1]['biased_mean_vals']\n",
    "ppo_gen_mean_vals = ppo_train_hist['logp_IReLeaSE-ppo_with_irl_no_attn'][0]['seed_1'][2]['gen_mean_vals']\n",
    "len(ppo_baseline_mean_vals), len(ppo_biased_mean_vals), len(ppo_gen_mean_vals)"
   ]
  },
  {
   "cell_type": "code",
   "execution_count": 6,
   "metadata": {},
   "outputs": [
    {
     "data": {
      "text/plain": [
       "<matplotlib.legend.Legend at 0x2583f04e788>"
      ]
     },
     "execution_count": 6,
     "metadata": {},
     "output_type": "execute_result"
    },
    {
     "data": {
      "image/png": "[encoded data removed]",
      "text/plain": [
       "<Figure size 432x288 with 1 Axes>"
      ]
     },
     "metadata": {
      "needs_background": "light"
     },
     "output_type": "display_data"
    }
   ],
   "source": [
    "plt.plot(rl_baseline_mean_vals)\n",
    "plt.plot(rl_biased_mean_vals)\n",
    "plt.plot(nbu.smoothing_values(ppo_gen_mean_vals[:150])[20:])\n",
    "plt.plot(nbu.smoothing_values(rl_gen_mean_vals)[20:])\n",
    "plt.legend(['baseline','demonstration','irelease','reinforce'])"
   ]
  },
  {
   "cell_type": "markdown",
   "metadata": {},
   "source": [
    "### Model analysis"
   ]
  },
  {
   "cell_type": "code",
   "execution_count": 7,
   "metadata": {},
   "outputs": [],
   "source": [
    "generators = nbu.data_provider('../../data/logp_smiles_biased.smi', '../../data/unbiased_smiles.smi')"
   ]
  },
  {
   "cell_type": "code",
   "execution_count": 8,
   "metadata": {},
   "outputs": [],
   "source": [
    "init_dict = nbu.initialize(nbu.logp_ppo_hparams(), generators['demo_data'], generators['unbiased_data'], True)"
   ]
  },
  {
   "cell_type": "code",
   "execution_count": 9,
   "metadata": {},
   "outputs": [],
   "source": [
    "demo_data_gen = init_dict['demo_data_gen']\n",
    "unbiased_data_gen = init_dict['unbiased_data_gen']"
   ]
  },
  {
   "cell_type": "code",
   "execution_count": 10,
   "metadata": {},
   "outputs": [],
   "source": [
    "expert_model = init_dict['expert_model']"
   ]
  },
  {
   "cell_type": "code",
   "execution_count": 11,
   "metadata": {},
   "outputs": [],
   "source": [
    "def sample_smiles(generator, num_samples):\n",
    "    with torch.set_grad_enabled(False):\n",
    "        gen_samples = []\n",
    "        gen_logits = []\n",
    "        hidden_neurons = []\n",
    "        per_round = 200\n",
    "        rounds = ceil(num_samples/per_round)\n",
    "        if num_samples < 200:\n",
    "            per_round = num_samples\n",
    "        for i in range(rounds):\n",
    "            smiles, logits, hidden = generate_smiles(generator, demo_data_gen, init_dict['gen_args'], \n",
    "                                                             num_samples=per_round, is_train=False, verbose=True, \n",
    "                                                             return_logits=True)\n",
    "            gen_samples.extend(smiles)\n",
    "            gen_logits.extend(logits)\n",
    "            hidden_neurons.append(hidden)\n",
    "    return gen_samples, np.array(gen_logits), np.concatenate(hidden_neurons, axis=1)"
   ]
  },
  {
   "cell_type": "code",
   "execution_count": 12,
   "metadata": {},
   "outputs": [],
   "source": [
    "def plot_hist(prediction, num_generated):\n",
    "    if isinstance(prediction, (list, tuple, set)):\n",
    "        prediction = np.array(prediction)\n",
    "    print(\"Mean value of predictions:\", prediction.mean())\n",
    "    print(\"Proportion of valid SMILES:\", len(prediction)/num_generated)\n",
    "    ax = sns.kdeplot(prediction.ravel(), shade=True)\n",
    "    ax.set(xlabel='Predicted pIC50', \n",
    "           title='Distribution of predicted pIC50 for generated molecules')\n",
    "    plt.show()"
   ]
  },
  {
   "cell_type": "code",
   "execution_count": 13,
   "metadata": {},
   "outputs": [],
   "source": [
    "n_to_generate = 10"
   ]
  },
  {
   "cell_type": "code",
   "execution_count": 14,
   "metadata": {},
   "outputs": [
    {
     "data": {
      "text/plain": [
       "(10, 'Cc1c(NC(=O)CCCn2cnc(-c3ccccn3)n2)cccc1C(F)(F)F')"
      ]
     },
     "execution_count": 14,
     "metadata": {},
     "output_type": "execute_result"
    }
   ],
   "source": [
    "unbiased_smiles = unbiased_data_gen.random_training_set_smiles(n_to_generate)\n",
    "unbiased_smiles_predictions = expert_model(unbiased_smiles)[1]\n",
    "len(unbiased_smiles), unbiased_smiles[0]"
   ]
  },
  {
   "cell_type": "code",
   "execution_count": 15,
   "metadata": {},
   "outputs": [
    {
     "data": {
      "text/plain": [
       "(10, 'Cc1ccccc1Nc1ncccc1Nc1ccccc1Nc1ccccc1')"
      ]
     },
     "execution_count": 15,
     "metadata": {},
     "output_type": "execute_result"
    }
   ],
   "source": [
    "biased_smiles = demo_data_gen.random_training_set_smiles(n_to_generate)\n",
    "biased_smiles_predictions = expert_model(biased_smiles)[1]\n",
    "len(biased_smiles), biased_smiles[0]"
   ]
  },
  {
   "cell_type": "markdown",
   "metadata": {},
   "source": [
    "### PPO models"
   ]
  },
  {
   "cell_type": "code",
   "execution_count": 16,
   "metadata": {},
   "outputs": [
    {
     "data": {
      "text/plain": [
       "<All keys matched successfully>"
      ]
     },
     "execution_count": 16,
     "metadata": {},
     "output_type": "execute_result"
    }
   ],
   "source": [
    "ppo_agent_net = init_dict['agent_net']\n",
    "ppo_agent_net.load_state_dict(nbu.load_model_weights('../model_dir/logp_irelease_stack-rnn_gru_ppo_agent_2020_06_25__01_31_53_1.978_500.mod'))\n",
    "ppo_critic_net = init_dict['critic_net']\n",
    "ppo_critic_net.load_state_dict(nbu.load_model_weights('../model_dir/logp_irelease_stack-rnn_gru_ppo_critic_2020_06_25__01_31_53_1.978_500.mod'))\n",
    "ppo_reward_net = init_dict['reward_net']\n",
    "ppo_reward_net.load_state_dict(nbu.load_model_weights('../model_dir/logp_irelease_stack-rnn_gru_ppo_reward_net_2020_06_25__01_31_53_1.978_500.mod'))"
   ]
  },
  {
   "cell_type": "code",
   "execution_count": 17,
   "metadata": {},
   "outputs": [
    {
     "name": "stderr",
     "output_type": "stream",
     "text": [
      "Generating SMILES...: 100%|████████████████████████████████████████████████████████████| 99/99 [00:18<00:00,  5.24it/s]\n",
      "Processing SMILES...: 100%|█████████████████████████████████████████████████████████| 10/10 [00:00<00:00, 10015.05it/s]\n"
     ]
    },
    {
     "name": "stdout",
     "output_type": "stream",
     "text": [
      "10\n"
     ]
    }
   ],
   "source": [
    "ppo_samples, ppo_samples_logits, ppo_samples_neurons = sample_smiles(ppo_agent_net, n_to_generate)\n",
    "print(len(ppo_samples))"
   ]
  },
  {
   "cell_type": "code",
   "execution_count": 19,
   "metadata": {},
   "outputs": [
    {
     "data": {
      "text/plain": [
       "(99, 10, 1500)"
      ]
     },
     "execution_count": 19,
     "metadata": {},
     "output_type": "execute_result"
    }
   ],
   "source": [
    "ppo_samples_neurons.shape"
   ]
  },
  {
   "cell_type": "code",
   "execution_count": null,
   "metadata": {},
   "outputs": [],
   "source": [
    "ppo_mols, ppo_samples_predictions, ppo_invalid = expert_model(ppo_samples)\n",
    "len(ppo_samples_predictions), len(ppo_invalid)"
   ]
  },
  {
   "cell_type": "code",
   "execution_count": null,
   "metadata": {},
   "outputs": [],
   "source": [
    "plot_hist(ppo_samples_predictions, len(ppo_samples))"
   ]
  },
  {
   "cell_type": "markdown",
   "metadata": {},
   "source": [
    "### REINFORCE models"
   ]
  },
  {
   "cell_type": "code",
   "execution_count": null,
   "metadata": {},
   "outputs": [],
   "source": [
    "init_dict = nbu.initialize(nbu.logp_reinforce_hparams(), generators['demo_data'], generators['unbiased_data'], False)\n",
    "rl_agent_net = init_dict['agent_net']\n",
    "rl_agent_net.load_state_dict(nbu.load_model_weights('../model_dir/logp_irelease_stack-rnn_gru_reinforce_agent_2020_06_25__01_56_50_1.873_600.mod'))\n",
    "rl_reward_net = init_dict['reward_net']\n",
    "rl_reward_net.load_state_dict(nbu.load_model_weights('../model_dir/logp_irelease_stack-rnn_gru_reinforce_reward_net_2020_06_25__01_56_50_1.873_600.mod'))"
   ]
  },
  {
   "cell_type": "code",
   "execution_count": null,
   "metadata": {},
   "outputs": [],
   "source": [
    "rl_samples, rl_samples_logits, rl_samples_neurons = sample_smiles(rl_agent_net, n_to_generate)\n",
    "print(len(rl_samples))"
   ]
  },
  {
   "cell_type": "code",
   "execution_count": null,
   "metadata": {},
   "outputs": [],
   "source": [
    "rl_mols, rl_samples_predictions, rl_invalid = expert_model(rl_samples)\n",
    "len(rl_samples_predictions), len(rl_invalid)"
   ]
  },
  {
   "cell_type": "code",
   "execution_count": null,
   "metadata": {},
   "outputs": [],
   "source": [
    "plot_hist(rl_samples_predictions, len(rl_samples))"
   ]
  },
  {
   "cell_type": "markdown",
   "metadata": {},
   "source": [
    "## Comparisons"
   ]
  },
  {
   "cell_type": "markdown",
   "metadata": {},
   "source": [
    "### KDE plots"
   ]
  },
  {
   "cell_type": "code",
   "execution_count": null,
   "metadata": {},
   "outputs": [],
   "source": [
    "sns.kdeplot(ppo_samples_predictions.ravel(),label='Optimized_irl', shade=True, color='red')\n",
    "sns.kdeplot(rl_samples_predictions.ravel(),label='Optimized_rl', shade=True, color='blue')\n",
    "sns.kdeplot(unbiased_smiles_predictions.ravel(), label='Unbiased', shade=True, color='grey')\n",
    "ax = sns.kdeplot(biased_smiles_predictions.ravel(), label='Demo', shade=True, color='orange')\n",
    "plt.xlabel('pIC50 values')\n",
    "# ax.get_xaxis().set_visible(False)\n",
    "ax.get_yaxis().set_visible(False)\n",
    "# ax.set_xticks([])\n",
    "sns.despine(offset=5, left=True, bottom=False)\n",
    "plt.show()"
   ]
  },
  {
   "cell_type": "markdown",
   "metadata": {},
   "source": [
    "### RNN hidden neurons analysis"
   ]
  },
  {
   "cell_type": "code",
   "execution_count": null,
   "metadata": {},
   "outputs": [],
   "source": [
    "def plot_heatmap(smiles_list, logits, neuron=None):\n",
    "    if neuron is None:\n",
    "        neuron = np.random.randint(logits.shape[-1])\n",
    "    print(f'Plotting for neuron {neuron}')\n",
    "    for i, smiles in enumerate(smiles_list):\n",
    "#         print(smiles)\n",
    "        arr = logits[:len(smiles), i, neuron].reshape(1, len(smiles))\n",
    "        chars = np.array([c for c in smiles]).reshape(1,-1)\n",
    "        fig = plt.figure(figsize=(200,4))\n",
    "        sns.heatmap(arr, annot=chars, fmt='', cbar=False, \n",
    "                    cmap=sns.color_palette(\"bwr\", 10), annot_kws={'size':100, 'fontweight':'normal'},\n",
    "                   xticklabels=False, yticklabels=False, square=True)\n",
    "        plt.show()"
   ]
  },
  {
   "cell_type": "code",
   "execution_count": null,
   "metadata": {},
   "outputs": [],
   "source": [
    "ppo_samples_neurons.shape"
   ]
  },
  {
   "cell_type": "code",
   "execution_count": null,
   "metadata": {},
   "outputs": [],
   "source": [
    "ppo_samples_neurons = np.squeeze(ppo_samples_neurons, 0)\n",
    "ppo_samples_neurons.shape"
   ]
  },
  {
   "cell_type": "code",
   "execution_count": null,
   "metadata": {},
   "outputs": [],
   "source": [
    "plot_heatmap(ppo_samples[:10], ppo_samples_neurons[:,:10,:])"
   ]
  },
  {
   "cell_type": "code",
   "execution_count": null,
   "metadata": {},
   "outputs": [],
   "source": [
    "ppo_eval_rpt = nbu.evaluate(ppo_samples, biased_smiles)\n",
    "ppo_eval_rpt"
   ]
  },
  {
   "cell_type": "code",
   "execution_count": null,
   "metadata": {},
   "outputs": [],
   "source": [
    "rl_eval_rpt = nbu.evaluate(rl_samples, biased_smiles)\n",
    "rl_eval_rpt"
   ]
  },
  {
   "cell_type": "markdown",
   "metadata": {},
   "source": [
    "### Draw random compounds"
   ]
  },
  {
   "cell_type": "code",
   "execution_count": null,
   "metadata": {},
   "outputs": [],
   "source": [
    "import os\n",
    "import rdkit.Chem as Chem\n",
    "from rdkit.Chem.Draw import DrawingOptions\n",
    "from rdkit.Chem import Draw\n",
    "DrawingOptions.atomLabelFontSize = 50\n",
    "DrawingOptions.dotsPerAngstrom = 100\n",
    "DrawingOptions.bondLineWidth = 3"
   ]
  },
  {
   "cell_type": "code",
   "execution_count": null,
   "metadata": {},
   "outputs": [],
   "source": [
    "generated_mols = [Chem.MolFromSmiles(sm, sanitize=True) for sm in set(ppo_samples)]\n",
    "sanitized_gen_mols = [generated_mols[i] for i in np.where(np.array(generated_mols) != None)[0]]"
   ]
  },
  {
   "cell_type": "code",
   "execution_count": null,
   "metadata": {},
   "outputs": [],
   "source": [
    "n_to_draw = 20\n",
    "ind = np.random.randint(0, len(sanitized_gen_mols), n_to_draw)\n",
    "mols_to_draw = [sanitized_gen_mols[i] for i in ind]\n",
    "legends = ['pIC50 = ' + str(round(float(ppo_samples_predictions[i]), 3)) for i in ind]\n",
    "Draw.MolsToGridImage(mols_to_draw, molsPerRow=5, subImgSize=(300,300), legends=legends)"
   ]
  },
  {
   "cell_type": "code",
   "execution_count": null,
   "metadata": {},
   "outputs": [],
   "source": [
    "# Save selected compounds to file\n",
    "# os.makedirs('./logp_samples', exist_ok=True)\n",
    "# for i, mol in enumerate(mols_to_draw):\n",
    "#     Draw.MolToImageFile(mol, f'./logp_samples/pic50_{round(float(ppo_samples_predictions[i]), 3)}.png')"
   ]
  },
  {
   "cell_type": "markdown",
   "metadata": {},
   "source": [
    "## Reward net analysis"
   ]
  },
  {
   "cell_type": "code",
   "execution_count": null,
   "metadata": {},
   "outputs": [],
   "source": [
    "ppo_samples = [s.strip() for s in ppo_samples]\n",
    "ppo_invalid_smiles = [s.strip() for s in ppo_invalid]\n",
    "len(ppo_samples)"
   ]
  },
  {
   "cell_type": "code",
   "execution_count": null,
   "metadata": {},
   "outputs": [],
   "source": [
    "encoder = init_dict['encoder']\n",
    "ppo_reward_net_rnn = init_dict['reward_net_rnn']"
   ]
  },
  {
   "cell_type": "code",
   "execution_count": null,
   "metadata": {},
   "outputs": [],
   "source": [
    "with torch.set_grad_enabled(False):\n",
    "    inp, valid_vec = nbu.smiles_to_tensor(ppo_invalid_smiles)\n",
    "    enc_out = encoder([inp, valid_vec])\n",
    "    reward, logits = ppo_reward_net_rnn(enc_out, return_logits=True)"
   ]
  },
  {
   "cell_type": "code",
   "execution_count": null,
   "metadata": {},
   "outputs": [],
   "source": [
    "logits.shape"
   ]
  },
  {
   "cell_type": "code",
   "execution_count": null,
   "metadata": {},
   "outputs": [],
   "source": [
    "from sklearn.manifold import TSNE\n",
    "import pandas as pd "
   ]
  },
  {
   "cell_type": "code",
   "execution_count": null,
   "metadata": {},
   "outputs": [],
   "source": [
    "tsne_rep = TSNE(n_components=2).fit_transform(logits.detach().cpu().numpy())\n",
    "data = pd.DataFrame({'dim_1':tsne_rep[:,0], 'dim_2':tsne_rep[:,1]})"
   ]
  },
  {
   "cell_type": "code",
   "execution_count": null,
   "metadata": {},
   "outputs": [],
   "source": [
    "cm = plt.cm.get_cmap('RdYlBu')\n",
    "sc = plt.scatter(tsne_rep[:, 0], tsne_rep[:, 1], c=tsne_rep[:, 1], vmin=0, vmax=20, s=35, cmap=cm)\n",
    "plt.colorbar(sc)\n",
    "plt.axis('off')\n",
    "plt.show()"
   ]
  },
  {
   "cell_type": "code",
   "execution_count": null,
   "metadata": {},
   "outputs": [],
   "source": [
    "cm = plt.cm.get_cmap('RdYlBu')\n",
    "sc = plt.scatter(tsne_rep[:, 0], tsne_rep[:, 1], c=tsne_rep[:, 1], vmin=0, vmax=20, s=35, cmap=cm)\n",
    "plt.colorbar(sc)\n",
    "plt.axis('off')\n",
    "plt.show()"
   ]
  },
  {
   "cell_type": "code",
   "execution_count": null,
   "metadata": {},
   "outputs": [],
   "source": []
  }
 ],
 "metadata": {
  "kernelspec": {
   "display_name": "Python 3",
   "language": "python",
   "name": "python3"
  },
  "language_info": {
   "codemirror_mode": {
    "name": "ipython",
    "version": 3
   },
   "file_extension": ".py",
   "mimetype": "text/x-python",
   "name": "python",
   "nbconvert_exporter": "python",
   "pygments_lexer": "ipython3",
   "version": "3.7.4"
  }
 },
 "nbformat": 4,
 "nbformat_minor": 4
}
