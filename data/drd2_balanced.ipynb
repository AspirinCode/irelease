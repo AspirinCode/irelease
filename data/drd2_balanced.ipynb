{
 "cells": [
  {
   "cell_type": "code",
   "execution_count": 1,
   "metadata": {},
   "outputs": [],
   "source": [
    "import numpy as np\n",
    "import pandas as pd\n",
    "from sklearn.utils import shuffle"
   ]
  },
  {
   "cell_type": "code",
   "execution_count": 2,
   "metadata": {},
   "outputs": [
    {
     "data": {
      "text/html": [
       "<div>\n",
       "<style scoped>\n",
       "    .dataframe tbody tr th:only-of-type {\n",
       "        vertical-align: middle;\n",
       "    }\n",
       "\n",
       "    .dataframe tbody tr th {\n",
       "        vertical-align: top;\n",
       "    }\n",
       "\n",
       "    .dataframe thead th {\n",
       "        text-align: right;\n",
       "    }\n",
       "</style>\n",
       "<table border=\"1\" class=\"dataframe\">\n",
       "  <thead>\n",
       "    <tr style=\"text-align: right;\">\n",
       "      <th></th>\n",
       "      <th>SMILES</th>\n",
       "      <th>Activity_Flag</th>\n",
       "    </tr>\n",
       "  </thead>\n",
       "  <tbody>\n",
       "    <tr>\n",
       "      <th>0</th>\n",
       "      <td>S1C=C(N=C1C(C=NC2=CC=C(C(OCCN(CC)CC)=O)C=C2)C#...</td>\n",
       "      <td>0</td>\n",
       "    </tr>\n",
       "    <tr>\n",
       "      <th>1</th>\n",
       "      <td>S(=O)(=O)(N1CCN(CC1)C)C=2C=CC(NC(=O)COC3=C(C=C...</td>\n",
       "      <td>0</td>\n",
       "    </tr>\n",
       "    <tr>\n",
       "      <th>2</th>\n",
       "      <td>ClC=1C=CC(C(=O)C2C(O)(NC(=O)NC2C=3OC(=CC3)C=4C...</td>\n",
       "      <td>0</td>\n",
       "    </tr>\n",
       "    <tr>\n",
       "      <th>3</th>\n",
       "      <td>ClC1=CC=C(CC2(CCN(CC2)C(=O)C3=NSN=C3)CO)C=C1</td>\n",
       "      <td>0</td>\n",
       "    </tr>\n",
       "    <tr>\n",
       "      <th>4</th>\n",
       "      <td>ClC=1C(C(NC(=O)N)C2=CC=C(Cl)C=C2)=CC=CC1</td>\n",
       "      <td>0</td>\n",
       "    </tr>\n",
       "  </tbody>\n",
       "</table>\n",
       "</div>"
      ],
      "text/plain": [
       "                                              SMILES  Activity_Flag\n",
       "0  S1C=C(N=C1C(C=NC2=CC=C(C(OCCN(CC)CC)=O)C=C2)C#...              0\n",
       "1  S(=O)(=O)(N1CCN(CC1)C)C=2C=CC(NC(=O)COC3=C(C=C...              0\n",
       "2  ClC=1C=CC(C(=O)C2C(O)(NC(=O)NC2C=3OC(=CC3)C=4C...              0\n",
       "3       ClC1=CC=C(CC2(CCN(CC2)C(=O)C3=NSN=C3)CO)C=C1              0\n",
       "4           ClC=1C(C(NC(=O)N)C2=CC=C(Cl)C=C2)=CC=CC1              0"
      ]
     },
     "execution_count": 2,
     "metadata": {},
     "output_type": "execute_result"
    }
   ],
   "source": [
    "data_all = pd.read_csv('drd2_data_bin.csv')\n",
    "data_all.head()"
   ]
  },
  {
   "cell_type": "code",
   "execution_count": 4,
   "metadata": {},
   "outputs": [
    {
     "data": {
      "text/plain": [
       "(351529, 2)"
      ]
     },
     "execution_count": 4,
     "metadata": {},
     "output_type": "execute_result"
    }
   ],
   "source": [
    "data_all.shape"
   ]
  },
  {
   "cell_type": "code",
   "execution_count": 5,
   "metadata": {},
   "outputs": [
    {
     "data": {
      "text/plain": [
       "(343206, 2)"
      ]
     },
     "execution_count": 5,
     "metadata": {},
     "output_type": "execute_result"
    }
   ],
   "source": [
    "data_neg = data_all[data_all['Activity_Flag']==0]\n",
    "data_neg.shape"
   ]
  },
  {
   "cell_type": "code",
   "execution_count": 6,
   "metadata": {},
   "outputs": [
    {
     "data": {
      "text/plain": [
       "(8323, 2)"
      ]
     },
     "execution_count": 6,
     "metadata": {},
     "output_type": "execute_result"
    }
   ],
   "source": [
    "data_pos = data_all[data_all['Activity_Flag']==1]\n",
    "data_pos.shape"
   ]
  },
  {
   "cell_type": "code",
   "execution_count": 7,
   "metadata": {},
   "outputs": [
    {
     "data": {
      "text/plain": [
       "(8323, 2)"
      ]
     },
     "execution_count": 7,
     "metadata": {},
     "output_type": "execute_result"
    }
   ],
   "source": [
    "data_neg = data_neg.iloc[np.random.choice(np.arange(data_neg.shape[0]), data_pos.shape[0], replace=False), :]\n",
    "data_neg.shape"
   ]
  },
  {
   "cell_type": "code",
   "execution_count": 8,
   "metadata": {},
   "outputs": [],
   "source": [
    "data = pd.concat([data_pos, data_neg])"
   ]
  },
  {
   "cell_type": "code",
   "execution_count": 9,
   "metadata": {},
   "outputs": [
    {
     "data": {
      "text/plain": [
       "(16646, 2)"
      ]
     },
     "execution_count": 9,
     "metadata": {},
     "output_type": "execute_result"
    }
   ],
   "source": [
    "data.shape"
   ]
  },
  {
   "cell_type": "code",
   "execution_count": 10,
   "metadata": {},
   "outputs": [
    {
     "data": {
      "text/html": [
       "<div>\n",
       "<style scoped>\n",
       "    .dataframe tbody tr th:only-of-type {\n",
       "        vertical-align: middle;\n",
       "    }\n",
       "\n",
       "    .dataframe tbody tr th {\n",
       "        vertical-align: top;\n",
       "    }\n",
       "\n",
       "    .dataframe thead th {\n",
       "        text-align: right;\n",
       "    }\n",
       "</style>\n",
       "<table border=\"1\" class=\"dataframe\">\n",
       "  <thead>\n",
       "    <tr style=\"text-align: right;\">\n",
       "      <th></th>\n",
       "      <th>SMILES</th>\n",
       "      <th>Activity_Flag</th>\n",
       "    </tr>\n",
       "  </thead>\n",
       "  <tbody>\n",
       "    <tr>\n",
       "      <th>43</th>\n",
       "      <td>N1(CCN(CC1)C2=CC=CC=C2)CCC3=CC=CC=C3</td>\n",
       "      <td>1</td>\n",
       "    </tr>\n",
       "    <tr>\n",
       "      <th>59</th>\n",
       "      <td>C=1C(C)=CC=C(C)C1N2CCN(CCCC(C=3C=CC(=CC3)F)=O)CC2</td>\n",
       "      <td>1</td>\n",
       "    </tr>\n",
       "    <tr>\n",
       "      <th>60</th>\n",
       "      <td>S(OC1=CC=C(CNC(=O)CCCCCN2CCN(CC2)C=3C(OC)=CC=C...</td>\n",
       "      <td>1</td>\n",
       "    </tr>\n",
       "    <tr>\n",
       "      <th>63</th>\n",
       "      <td>C1(=C(C=2C=CC=CC2C(=C1)Br)OC)C(NC[C@H]3N(C4C5C...</td>\n",
       "      <td>1</td>\n",
       "    </tr>\n",
       "    <tr>\n",
       "      <th>113</th>\n",
       "      <td>C=1(C(=CC2=C(C1)CCN3[C@@H]2CC4=C(C3)C(=C(C=C4)...</td>\n",
       "      <td>1</td>\n",
       "    </tr>\n",
       "  </tbody>\n",
       "</table>\n",
       "</div>"
      ],
      "text/plain": [
       "                                                SMILES  Activity_Flag\n",
       "43                N1(CCN(CC1)C2=CC=CC=C2)CCC3=CC=CC=C3              1\n",
       "59   C=1C(C)=CC=C(C)C1N2CCN(CCCC(C=3C=CC(=CC3)F)=O)CC2              1\n",
       "60   S(OC1=CC=C(CNC(=O)CCCCCN2CCN(CC2)C=3C(OC)=CC=C...              1\n",
       "63   C1(=C(C=2C=CC=CC2C(=C1)Br)OC)C(NC[C@H]3N(C4C5C...              1\n",
       "113  C=1(C(=CC2=C(C1)CCN3[C@@H]2CC4=C(C3)C(=C(C=C4)...              1"
      ]
     },
     "execution_count": 10,
     "metadata": {},
     "output_type": "execute_result"
    }
   ],
   "source": [
    "data.head()"
   ]
  },
  {
   "cell_type": "code",
   "execution_count": 12,
   "metadata": {},
   "outputs": [
    {
     "data": {
      "text/html": [
       "<div>\n",
       "<style scoped>\n",
       "    .dataframe tbody tr th:only-of-type {\n",
       "        vertical-align: middle;\n",
       "    }\n",
       "\n",
       "    .dataframe tbody tr th {\n",
       "        vertical-align: top;\n",
       "    }\n",
       "\n",
       "    .dataframe thead th {\n",
       "        text-align: right;\n",
       "    }\n",
       "</style>\n",
       "<table border=\"1\" class=\"dataframe\">\n",
       "  <thead>\n",
       "    <tr style=\"text-align: right;\">\n",
       "      <th></th>\n",
       "      <th>SMILES</th>\n",
       "      <th>Activity_Flag</th>\n",
       "    </tr>\n",
       "  </thead>\n",
       "  <tbody>\n",
       "    <tr>\n",
       "      <th>193361</th>\n",
       "      <td>C1(C=2C(=CC=CC2)C(C1)C3=CC=C(C=C3)F)N4CCNCC4</td>\n",
       "      <td>1</td>\n",
       "    </tr>\n",
       "    <tr>\n",
       "      <th>276269</th>\n",
       "      <td>N1(CC2CC2)CCC(COC3=NC=CC=C3)CC1</td>\n",
       "      <td>1</td>\n",
       "    </tr>\n",
       "    <tr>\n",
       "      <th>237288</th>\n",
       "      <td>ClC=1C=C(NC(=O)C2=CC=3CCCN(S(=O)(=O)C)C3C=C2)C...</td>\n",
       "      <td>0</td>\n",
       "    </tr>\n",
       "    <tr>\n",
       "      <th>60</th>\n",
       "      <td>S(OC1=CC=C(CNC(=O)CCCCCN2CCN(CC2)C=3C(OC)=CC=C...</td>\n",
       "      <td>1</td>\n",
       "    </tr>\n",
       "    <tr>\n",
       "      <th>276326</th>\n",
       "      <td>O1C2=C(OCC1)C=CC(=C2)C=3ON=C(C3)C(OC=4C(=CC=CC...</td>\n",
       "      <td>0</td>\n",
       "    </tr>\n",
       "  </tbody>\n",
       "</table>\n",
       "</div>"
      ],
      "text/plain": [
       "                                                   SMILES  Activity_Flag\n",
       "193361       C1(C=2C(=CC=CC2)C(C1)C3=CC=C(C=C3)F)N4CCNCC4              1\n",
       "276269                    N1(CC2CC2)CCC(COC3=NC=CC=C3)CC1              1\n",
       "237288  ClC=1C=C(NC(=O)C2=CC=3CCCN(S(=O)(=O)C)C3C=C2)C...              0\n",
       "60      S(OC1=CC=C(CNC(=O)CCCCCN2CCN(CC2)C=3C(OC)=CC=C...              1\n",
       "276326  O1C2=C(OCC1)C=CC(=C2)C=3ON=C(C3)C(OC=4C(=CC=CC...              0"
      ]
     },
     "execution_count": 12,
     "metadata": {},
     "output_type": "execute_result"
    }
   ],
   "source": [
    "data = shuffle(data)\n",
    "data.head()"
   ]
  },
  {
   "cell_type": "code",
   "execution_count": 13,
   "metadata": {},
   "outputs": [],
   "source": [
    "data.to_csv('drd2_bin_balanced.csv', index=False)"
   ]
  },
  {
   "cell_type": "code",
   "execution_count": null,
   "metadata": {},
   "outputs": [],
   "source": []
  }
 ],
 "metadata": {
  "kernelspec": {
   "display_name": "Python 3",
   "language": "python",
   "name": "python3"
  },
  "language_info": {
   "codemirror_mode": {
    "name": "ipython",
    "version": 3
   },
   "file_extension": ".py",
   "mimetype": "text/x-python",
   "name": "python",
   "nbconvert_exporter": "python",
   "pygments_lexer": "ipython3",
   "version": "3.7.4"
  }
 },
 "nbformat": 4,
 "nbformat_minor": 2
}
